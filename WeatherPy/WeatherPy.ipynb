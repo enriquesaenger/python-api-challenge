{
 "cells": [
  {
   "cell_type": "markdown",
   "metadata": {},
   "source": [
    "# WeatherPy\n",
    "----"
   ]
  },
  {
   "cell_type": "markdown",
   "metadata": {},
   "source": [
    "#### Dependencies"
   ]
  },
  {
   "cell_type": "code",
   "execution_count": null,
   "metadata": {},
   "outputs": [],
   "source": [
    "# import dependencies\n",
    "import matplotlib.pyplot as plt\n",
    "import pandas as pd\n",
    "import numpy as np\n",
    "import requests\n",
    "import json\n",
    "import time\n",
    "from scipy.stats import linregress\n",
    "from citipy import citipy\n",
    "\n",
    "# import api keys\n",
    "from api_keys import weather_api_keyx\n",
    "\n",
    "# default strings\n",
    "output_data_file = \"../output_data/cities.csv\"\n",
    "output_nhemisphere_data_file = \"../output_data/nhemisphere.csv\"\n",
    "output_shemisphere_data_file = \"../output_data/shemisphere.csv\"\n",
    "weather_url = \"https://api.openweathermap.org/data/2.5/weather?q=\"\n",
    "\n",
    "# latitude and longitude ranges\n",
    "lat_range = (-90, 90)\n",
    "lng_range = (-180, 180)"
   ]
  },
  {
   "cell_type": "markdown",
   "metadata": {},
   "source": [
    "#### List of cities"
   ]
  },
  {
   "cell_type": "code",
   "execution_count": null,
   "metadata": {},
   "outputs": [],
   "source": [
    "# create lists for storing values\n",
    "lat_lngs = []\n",
    "cities = []\n",
    "\n",
    "# randomize lats and lngs\n",
    "lats = np.random.uniform(low=-90, high=90, size=1500)\n",
    "lngs = np.random.uniform(low=-180, high=180, size=1500)\n",
    "lat_lngs = zip(lats, lngs)\n",
    "\n",
    "# find cities using citipy with lats and lngs\n",
    "for lat_lng in lat_lngs:\n",
    "    city = citipy.nearest_city(lat_lng[0], lat_lng[1]).city_name\n",
    "    \n",
    "    if city not in cities:\n",
    "        cities.append(city)\n",
    "        \n",
    "print(f\"Number of cities: {len(cities)}\")"
   ]
  },
  {
   "cell_type": "markdown",
   "metadata": {},
   "source": [
    "#### Data Retrieval"
   ]
  },
  {
   "cell_type": "code",
   "execution_count": null,
   "metadata": {},
   "outputs": [],
   "source": [
    "# create counters for output\n",
    "record = 1\n",
    "group = 1\n",
    "\n",
    "# create list for json data\n",
    "responses = []\n",
    "\n",
    "# initial printout\n",
    "print(f\"Beginning Data Retrieval\\n\"\n",
    "      f\"-----------------------------\")\n",
    "\n",
    "# for loop for api calls for each city\n",
    "for city in cities:\n",
    "    \n",
    "    # create target_url\n",
    "    target_url = f\"{weather_url}{city}&appid={weather_api_key}\"\n",
    "        \n",
    "    # generate api request and make json\n",
    "    response = requests.get(target_url).json()\n",
    "        \n",
    "    # create a response string\n",
    "    response_string = str(response)\n",
    "    \n",
    "    # city not found\n",
    "    if response_string == \"{'cod': '404', 'message': 'city not found'}\":\n",
    "       \n",
    "        #print error\n",
    "        print(f\"Processing Record {record} of Set {group} | {city}\")\n",
    "        print(\"City not found. Skipping...\")\n",
    "    \n",
    "    # city is found\n",
    "    else:\n",
    "        \n",
    "        # print which city is processing\n",
    "        print(f\"Processing Record {record} of Set {group} | {city}\")\n",
    "        responses.append(response)\n",
    "        \n",
    "    # count record and set\n",
    "    if record < 50:\n",
    "        record += 1\n",
    "    else:\n",
    "        record = 1\n",
    "        group += 1\n",
    "\n",
    "# final printout\n",
    "print(f\"-----------------------------\\n\"\n",
    "      f\"Data Retrieval Complete\\n\"\n",
    "      f\"-----------------------------\")"
   ]
  },
  {
   "cell_type": "markdown",
   "metadata": {},
   "source": [
    "#### City Data Frame"
   ]
  },
  {
   "cell_type": "code",
   "execution_count": null,
   "metadata": {},
   "outputs": [],
   "source": [
    "# create dictionary for storing datapoints\n",
    "df = {\n",
    "    \"City\": [],\n",
    "    \"Cloudiness\": [],\n",
    "    \"Country\": [],\n",
    "    \"Date\": [],\n",
    "    \"Humidity\": [],\n",
    "    \"Lat\": [],\n",
    "    \"Lng\": [],\n",
    "    \"Max Temp\": [],\n",
    "    \"Wind Speed\": []\n",
    "}\n",
    "\n",
    "# fill out dictionary with data points\n",
    "for response in range(0, len(responses)):\n",
    "    df[\"City\"].append(responses[response]['name'])\n",
    "    df[\"Cloudiness\"].append(responses[response]['clouds']['all'])\n",
    "    df[\"Country\"].append(responses[response]['sys']['country'])\n",
    "    df[\"Date\"].append(responses[response]['dt'])\n",
    "    df[\"Humidity\"].append(responses[response]['main']['humidity'])\n",
    "    df[\"Lat\"].append(responses[response]['coord']['lat'])\n",
    "    df[\"Lng\"].append(responses[response]['coord']['lon'])\n",
    "    df[\"Max Temp\"].append(responses[response]['main']['temp_max'])\n",
    "    df[\"Wind Speed\"].append(responses[response]['wind']['speed'])\n",
    "    \n",
    "# convert dictionary to data frame\n",
    "city_data = pd.DataFrame(df)\n",
    "\n",
    "# convert from K to F\n",
    "city_data[\"Max Temp\"] = round((city_data[\"Max Temp\"] - 273.15) * (9/5) + 32, 2)\n",
    "\n",
    "# create data frames for each hemisphere\n",
    "n_hemisphere = city_data.loc[city_data[\"Lat\"] > 0]\n",
    "s_hemisphere = city_data.loc[city_data[\"Lat\"] < 0]\n",
    "\n",
    "# export city_data to CSV\n",
    "f = city_data.to_csv(output_data_file, index=False)\n",
    "f = n_hemisphere.to_csv(output_nhemisphere_data_file, index=False)\n",
    "f = s_hemisphere.to_csv(output_shemisphere_data_file, index=False)\n",
    "\n",
    "# display the data frame\n",
    "city_data.head()"
   ]
  },
  {
   "cell_type": "markdown",
   "metadata": {},
   "source": [
    "### Import CSVs (Don't need to retrieve data again)"
   ]
  },
  {
   "cell_type": "code",
   "execution_count": null,
   "metadata": {},
   "outputs": [],
   "source": [
    "city_data = pd.read_csv(output_data_file)\n",
    "n_hemisphere = pd.read_csv(output_nhemisphere_data_file)\n",
    "s_hemisphere = pd.read_csv(output_shemisphere_data_file)\n",
    "\n",
    "city_data"
   ]
  },
  {
   "cell_type": "markdown",
   "metadata": {},
   "source": [
    "#### Function for Scatter Plots"
   ]
  },
  {
   "cell_type": "code",
   "execution_count": null,
   "metadata": {},
   "outputs": [],
   "source": [
    "def scatter(x_value, y_value, x_label, y_label):\n",
    "    # strings for title and labels\n",
    "    date = city_data[\"Date\"].max()\n",
    "    date = time.strftime(\"(%m/%d/%y)\", time.localtime(date))\n",
    "    title = f\"{x_label} vs. {y_label} {date}\"\n",
    "\n",
    "    # data to plot\n",
    "    x_axis = city_data[x_value]\n",
    "    y_axis = city_data[y_value]\n",
    "\n",
    "    # plot the data\n",
    "    plt.scatter(x_axis, y_axis, c=y_axis, edgecolors=\"grey\")\n",
    "\n",
    "    # assign title and labels\n",
    "    plt.title(title)\n",
    "    plt.xlabel(x_label)\n",
    "    plt.ylabel(y_label)\n",
    "\n",
    "    # clean up plot\n",
    "    plt.grid(axis='both')\n",
    "    plt.tight_layout()\n",
    "\n",
    "    # display the plot\n",
    "    plt.show()"
   ]
  },
  {
   "cell_type": "markdown",
   "metadata": {},
   "source": [
    "### Latitude vs Temperature Plot"
   ]
  },
  {
   "cell_type": "code",
   "execution_count": null,
   "metadata": {},
   "outputs": [],
   "source": [
    "scatter(\"Lat\", \"Max Temp\", \"Latitude\", \"Max Temperature (F)\")"
   ]
  },
  {
   "cell_type": "markdown",
   "metadata": {},
   "source": [
    "### Latitude vs Humidity Plot"
   ]
  },
  {
   "cell_type": "code",
   "execution_count": null,
   "metadata": {},
   "outputs": [],
   "source": [
    "scatter(\"Lat\", \"Humidity\", \"Latitude\", \"Humidity (%)\")"
   ]
  },
  {
   "cell_type": "markdown",
   "metadata": {},
   "source": [
    "### Latitude vs Cloudiness Plot"
   ]
  },
  {
   "cell_type": "code",
   "execution_count": null,
   "metadata": {},
   "outputs": [],
   "source": [
    "scatter(\"Lat\", \"Cloudiness\", \"Latitude\", \"Cloudiness (%)\")"
   ]
  },
  {
   "cell_type": "markdown",
   "metadata": {},
   "source": [
    "### Latitude vs Wind Speed Plot"
   ]
  },
  {
   "cell_type": "code",
   "execution_count": null,
   "metadata": {},
   "outputs": [],
   "source": [
    "scatter(\"Lat\", \"Wind Speed\", \"Latitude\", \"Wind Speed (mph)\")"
   ]
  },
  {
   "cell_type": "markdown",
   "metadata": {},
   "source": [
    "## Regression Analysis"
   ]
  },
  {
   "cell_type": "markdown",
   "metadata": {},
   "source": [
    "#### Regression Analysis Function"
   ]
  },
  {
   "cell_type": "code",
   "execution_count": null,
   "metadata": {},
   "outputs": [],
   "source": [
    "# create function for regression analysis\n",
    "def regress(hemisphere, x_column, y_column, x_label, y_label, x, y):\n",
    "\n",
    "    # create title\n",
    "    title = f\"{hemisphere} - {x_label} vs. {y_column}\"\n",
    "\n",
    "    # check hemispehere\n",
    "    if hemisphere == \"Northern Hemisphere\":\n",
    "        data_frame = n_hemisphere[[x_column, y_column]]\n",
    "    \n",
    "        #define x and y values\n",
    "        x_values = n_hemisphere[x_column]\n",
    "        y_values = n_hemisphere[y_column]\n",
    "    \n",
    "    elif hemisphere == \"Southern Hemisphere\":\n",
    "        data_frame = s_hemisphere[[x_column, y_column]]\n",
    "    \n",
    "        # define x and y values\n",
    "        x_values = s_hemisphere[x_column]\n",
    "        y_values = s_hemisphere[y_column]\n",
    "\n",
    "    # run regression\n",
    "    (slope, intercept, rvalue, pvalue, stderr) = linregress(x_values, y_values)\n",
    "\n",
    "    # calculate regression values and r-squared\n",
    "    regress_values = x_values * slope + intercept\n",
    "    r_squared = rvalue ** 2\n",
    "\n",
    "    # create line equation\n",
    "    line_eq = f\"y = {round(slope, 2)}x + {round(intercept, 2)}\"\n",
    "\n",
    "    # plot the data\n",
    "    plt.scatter(x_values, y_values)\n",
    "\n",
    "    # plot the regression line\n",
    "    plt.plot(x_values, regress_values, \"r-\")\n",
    "\n",
    "    # add equation\n",
    "    plt.annotate(line_eq, (x, y), fontsize=15, color=\"red\")\n",
    "\n",
    "    # add title and labels to plot\n",
    "    plt.title(title)\n",
    "    plt.xlabel(x_label)\n",
    "    plt.ylabel(y_label)\n",
    "\n",
    "    # print summary data\n",
    "    print(f\"The r-squared value is: {r_squared}\")\n",
    "\n",
    "    # display the plot\n",
    "    plt.show()"
   ]
  },
  {
   "cell_type": "markdown",
   "metadata": {},
   "source": [
    "### Northern Hemisphere - Max Temp vs. Latitude Linear Regression"
   ]
  },
  {
   "cell_type": "code",
   "execution_count": null,
   "metadata": {},
   "outputs": [],
   "source": [
    "regress(\"Northern Hemisphere\", \"Lat\", \"Max Temp\", \"Latitude\", \"Max Temp (F)\", 0, 12)"
   ]
  },
  {
   "cell_type": "markdown",
   "metadata": {},
   "source": [
    "### Southern Hemisphere - Max Temp vs. Latitude Linear Regression"
   ]
  },
  {
   "cell_type": "code",
   "execution_count": null,
   "metadata": {},
   "outputs": [],
   "source": [
    "regress(\"Southern Hemisphere\", \"Lat\", \"Max Temp\", \"Latitude\", \"Max Temp (F)\", -25, 55)"
   ]
  },
  {
   "cell_type": "markdown",
   "metadata": {},
   "source": [
    "### Northern Hemisphere - Humidity vs. Latitude Linear Regression"
   ]
  },
  {
   "cell_type": "code",
   "execution_count": null,
   "metadata": {},
   "outputs": [],
   "source": [
    "regress(\"Northern Hemisphere\", \"Lat\", \"Humidity\", \"Latitude\", \"Humidity (%)\", 43, 25)"
   ]
  },
  {
   "cell_type": "markdown",
   "metadata": {},
   "source": [
    "### Southern Hemisphere - Humidity vs. Latitude Linear Regression"
   ]
  },
  {
   "cell_type": "code",
   "execution_count": null,
   "metadata": {},
   "outputs": [],
   "source": [
    "regress(\"Southern Hemisphere\", \"Lat\", \"Humidity\", \"Latitude\", \"Humidity (%)\", -56, 10)"
   ]
  },
  {
   "cell_type": "markdown",
   "metadata": {},
   "source": [
    "### Northern Hemisphere - Cloudiness vs. Latitude Linear Regression"
   ]
  },
  {
   "cell_type": "code",
   "execution_count": null,
   "metadata": {},
   "outputs": [],
   "source": [
    "regress(\"Northern Hemisphere\", \"Lat\", \"Cloudiness\", \"Latitude\", \"Cloudiness (%)\", 30, 27)"
   ]
  },
  {
   "cell_type": "markdown",
   "metadata": {},
   "source": [
    "### Southern Hemisphere - Cloudiness vs. Latitude Linear Regression"
   ]
  },
  {
   "cell_type": "code",
   "execution_count": null,
   "metadata": {},
   "outputs": [],
   "source": [
    "regress(\"Southern Hemisphere\", \"Lat\", \"Cloudiness\", \"Latitude\", \"Cloudiness (%)\", -57, 58)"
   ]
  },
  {
   "cell_type": "markdown",
   "metadata": {},
   "source": [
    "### Northern Hemisphere - Wind Speed vs. Latitude Linear Regression"
   ]
  },
  {
   "cell_type": "code",
   "execution_count": null,
   "metadata": {},
   "outputs": [],
   "source": [
    "regress(\"Northern Hemisphere\", \"Lat\", \"Wind Speed\", \"Latitude\", \"Wind Speed (mph)\", 25, 12)"
   ]
  },
  {
   "cell_type": "markdown",
   "metadata": {},
   "source": [
    "### Southern Hemisphere - Wind Speed vs. Latitude Linear Regression"
   ]
  },
  {
   "cell_type": "code",
   "execution_count": null,
   "metadata": {},
   "outputs": [],
   "source": [
    "regress(\"Southern Hemisphere\", \"Lat\", \"Wind Speed\", \"Latitude\", \"Wind Speed (mph)\", -25, 12)"
   ]
  },
  {
   "cell_type": "code",
   "execution_count": null,
   "metadata": {},
   "outputs": [],
   "source": []
  }
 ],
 "metadata": {
  "kernelspec": {
   "display_name": "Python 3",
   "language": "python",
   "name": "python3"
  },
  "language_info": {
   "codemirror_mode": {
    "name": "ipython",
    "version": 3
   },
   "file_extension": ".py",
   "mimetype": "text/x-python",
   "name": "python",
   "nbconvert_exporter": "python",
   "pygments_lexer": "ipython3",
   "version": "3.6.9"
  }
 },
 "nbformat": 4,
 "nbformat_minor": 4
}
