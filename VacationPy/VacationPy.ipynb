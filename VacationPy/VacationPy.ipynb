{
 "cells": [
  {
   "cell_type": "code",
   "execution_count": null,
   "metadata": {},
   "outputs": [],
   "source": [
    "# Dependencies and Setup\n",
    "import matplotlib.pyplot as plt\n",
    "import pandas as pd\n",
    "import numpy as np\n",
    "import requests\n",
    "import gmaps\n",
    "import os\n",
    "\n",
    "# Import API key\n",
    "from api_keys import gkey\n",
    "\n",
    "# urls\n",
    "places_api = \"https://maps.googleapis.com/maps/api/place/findplacefromtext/json?\"\n",
    "\n",
    "# data paths\n",
    "city_data_path = \"../output_data/cities.csv\""
   ]
  },
  {
   "cell_type": "code",
   "execution_count": null,
   "metadata": {},
   "outputs": [],
   "source": [
    "city_data = pd.read_csv(city_data_path)\n",
    "\n",
    "city_data"
   ]
  },
  {
   "cell_type": "code",
   "execution_count": null,
   "metadata": {},
   "outputs": [],
   "source": [
    "# gmaps configuration\n",
    "gmaps.configure(api_key=gkey)"
   ]
  },
  {
   "cell_type": "code",
   "execution_count": null,
   "metadata": {},
   "outputs": [],
   "source": [
    "# function for heatmap1\n",
    "def heatmap1(locations, weights):\n",
    "    fig = gmaps.figure()\n",
    "    heat_layer = gmaps.heatmap_layer(locations, weights=weights, dissipating=False,)\n",
    "    fig.add_layer(heat_layer) \n",
    "    fig   \n",
    "    return fig\n",
    "\n",
    "# function for heatmap2\n",
    "def heatmap2(humidity_locations, hotel_locations, humidity, hotel_info, hover_text):\n",
    "    fig = gmaps.figure()\n",
    "    \n",
    "    heat_layer = gmaps.heatmap_layer(humidity_locations, weights=humidity, dissipating=False,)\n",
    "    marker_layer = gmaps.marker_layer(hotel_locations, hover_text=hover_text)\n",
    "    \n",
    "    fig.add_layer(heat_layer) \n",
    "    fig.add_layer(marker_layer)\n",
    "    \n",
    "    fig  \n",
    "    \n",
    "    return fig"
   ]
  },
  {
   "cell_type": "code",
   "execution_count": null,
   "metadata": {},
   "outputs": [],
   "source": [
    "locations = city_data[[\"Lat\", \"Lng\"]]\n",
    "weights = city_data[\"Humidity\"]\n",
    "heatmap1(locations, weights)"
   ]
  },
  {
   "cell_type": "code",
   "execution_count": null,
   "metadata": {},
   "outputs": [],
   "source": [
    "vacation_cities = city_data.dropna()\n",
    "\n",
    "cold = vacation_cities.loc[vacation_cities[\"Max Temp\"] < 65].index\n",
    "vacation_cities = vacation_cities.drop(cold)\n",
    "\n",
    "hot = vacation_cities.loc[vacation_cities[\"Max Temp\"] > 85].index\n",
    "vacation_cities = vacation_cities.drop(hot)\n",
    "\n",
    "windy = vacation_cities.loc[vacation_cities[\"Wind Speed\"] > 10].index\n",
    "vacation_cities = vacation_cities.drop(windy)\n",
    "\n",
    "cloudy = vacation_cities.loc[vacation_cities[\"Cloudiness\"] > 0].index\n",
    "vacation_cities = vacation_cities.drop(cloudy)\n",
    "\n",
    "humid = vacation_cities.loc[vacation_cities[\"Humidity\"] > 60].index\n",
    "vacation_cities = vacation_cities.drop(humid)\n",
    "\n",
    "hotel_df = vacation_cities\n",
    "\n",
    "hotel_df"
   ]
  },
  {
   "cell_type": "code",
   "execution_count": null,
   "metadata": {},
   "outputs": [],
   "source": [
    "hotel_list = []\n",
    "address_list = []\n",
    "term = \"Hotel\"\n",
    "inputtype = \"textquery\"\n",
    "radius = \"10\"\n",
    "fields = [\"name\", \"formatted_address\"]\n",
    "\n",
    "for index, row in hotel_df.iterrows():\n",
    "    lat = row[\"Lat\"]\n",
    "    lng = row[\"Lng\"]\n",
    "    locationbias = f\"circle:{radius}@{lat},{lng}\"\n",
    "    target_url = f\"{places_api}key={gkey}&input={term}&inputtype={inputtype}&locationbias=circle:{radius}@{lat},{lng}&fields=name,formatted_address\"\n",
    "    response = requests.get(target_url).json()\n",
    "    hotel_list.append(response[\"candidates\"][0][\"name\"])\n",
    "    address_list.append(response[\"candidates\"][0][\"formatted_address\"])\n",
    "\n",
    "hotel_df[\"Hotel Name\"] = hotel_list\n",
    "hotel_df[\"Hotel Address\"] = address_list\n",
    "\n",
    "hotel_df"
   ]
  },
  {
   "cell_type": "code",
   "execution_count": null,
   "metadata": {},
   "outputs": [],
   "source": [
    "# NOTE: Do not change any of the code in this cell\n",
    "\n",
    "# Using the template add the hotel marks to the heatmap\n",
    "info_box_template = \"\"\"\n",
    "<dl>\n",
    "<dt>Name</dt><dd>{Hotel Name}</dd>\n",
    "<dt>City</dt><dd>{City}</dd>\n",
    "<dt>Country</dt><dd>{Country}</dd>\n",
    "</dl>\n",
    "\"\"\"\n",
    "# Store the DataFrame Row\n",
    "# NOTE: be sure to update with your DataFrame name\n",
    "hotel_info = [info_box_template.format(**row) for index, row in hotel_df.iterrows()]\n",
    "hotel_locations = hotel_df[[\"Lat\", \"Lng\"]]"
   ]
  },
  {
   "cell_type": "code",
   "execution_count": null,
   "metadata": {},
   "outputs": [],
   "source": [
    "# Add marker layer ontop of heat map\n",
    "humidity_locations = city_data[[\"Lat\", \"Lng\"]]\n",
    "weight = city_data[\"Humidity\"]\n",
    "hover_text = hotel_list\n",
    "\n",
    "# Display Map\n",
    "heatmap2(humidity_locations, hotel_locations, weight, hotel_info, hover_text)"
   ]
  },
  {
   "cell_type": "code",
   "execution_count": null,
   "metadata": {},
   "outputs": [],
   "source": []
  }
 ],
 "metadata": {
  "kernelspec": {
   "display_name": "Python 3",
   "language": "python",
   "name": "python3"
  },
  "language_info": {
   "codemirror_mode": {
    "name": "ipython",
    "version": 3
   },
   "file_extension": ".py",
   "mimetype": "text/x-python",
   "name": "python",
   "nbconvert_exporter": "python",
   "pygments_lexer": "ipython3",
   "version": "3.6.9"
  }
 },
 "nbformat": 4,
 "nbformat_minor": 4
}
