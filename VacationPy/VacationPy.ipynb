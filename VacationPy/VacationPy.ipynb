{
 "cells": [
  {
   "cell_type": "code",
   "execution_count": null,
   "metadata": {},
   "outputs": [],
   "source": [
    "# Dependencies and Setup\n",
    "import matplotlib.pyplot as plt\n",
    "import pandas as pd\n",
    "import numpy as np\n",
    "import requests\n",
    "import gmaps\n",
    "import os\n",
    "\n",
    "# Import API key\n",
    "from api_keys import gkey\n",
    "\n",
    "# data paths\n",
    "city_data_path = \"../output_data/cities.csv\""
   ]
  },
  {
   "cell_type": "code",
   "execution_count": null,
   "metadata": {},
   "outputs": [],
   "source": [
    "city_data = pd.read_csv(city_data_path)\n",
    "city_data.head()"
   ]
  },
  {
   "cell_type": "code",
   "execution_count": null,
   "metadata": {},
   "outputs": [],
   "source": [
    "# gmaps configuration\n",
    "gmaps.configure(api_key=gkey)"
   ]
  },
  {
   "cell_type": "code",
   "execution_count": null,
   "metadata": {},
   "outputs": [],
   "source": [
    "# function for heatmap\n",
    "def heatmap(locations, weights):\n",
    "    fig = gmaps.figure()\n",
    "    heat_layer = gmaps.heatmap_layer(locations, weights=weights, dissipating=False,)\n",
    "    fig.add_layer(heat_layer) \n",
    "    fig   \n",
    "    return fig"
   ]
  },
  {
   "cell_type": "code",
   "execution_count": null,
   "metadata": {},
   "outputs": [],
   "source": [
    "heatmap(city_data[[\"Lat\", \"Lng\"]], city_data[\"Humidity\"])"
   ]
  },
  {
   "cell_type": "code",
   "execution_count": null,
   "metadata": {},
   "outputs": [],
   "source": [
    "city_data = city_data.dropna()\n",
    "vacation_cities = city_data"
   ]
  },
  {
   "cell_type": "code",
   "execution_count": null,
   "metadata": {},
   "outputs": [],
   "source": [
    "cold = vacation_cities.loc[vacation_cities[\"Max Temp\"] < 65].index\n",
    "vacation_cities = vacation_cities.drop(cold)\n",
    "\n",
    "hot = vacation_cities.loc[vacation_cities[\"Max Temp\"] > 85].index\n",
    "vacation_cities = vacation_cities.drop(hot)\n",
    "\n",
    "windy = vacation_cities.loc[vacation_cities[\"Wind Speed\"] > 10].index\n",
    "vacation_cities = vacation_cities.drop(windy)\n",
    "\n",
    "cloudy = vacation_cities.loc[vacation_cities[\"Cloudiness\"] > 0].index\n",
    "vacation_cities = vacation_cities.drop(cloudy)\n",
    "\n",
    "humid = vacation_cities.loc[vacation_cities[\"Humidity\"] > 60].index\n",
    "vacation_cities = vacation_cities.drop(humid)\n",
    "\n",
    "vacation_cities"
   ]
  },
  {
   "cell_type": "code",
   "execution_count": null,
   "metadata": {},
   "outputs": [],
   "source": []
  },
  {
   "cell_type": "code",
   "execution_count": null,
   "metadata": {},
   "outputs": [],
   "source": []
  }
 ],
 "metadata": {
  "kernelspec": {
   "display_name": "Python 3",
   "language": "python",
   "name": "python3"
  },
  "language_info": {
   "codemirror_mode": {
    "name": "ipython",
    "version": 3
   },
   "file_extension": ".py",
   "mimetype": "text/x-python",
   "name": "python",
   "nbconvert_exporter": "python",
   "pygments_lexer": "ipython3",
   "version": "3.6.9"
  }
 },
 "nbformat": 4,
 "nbformat_minor": 4
}
