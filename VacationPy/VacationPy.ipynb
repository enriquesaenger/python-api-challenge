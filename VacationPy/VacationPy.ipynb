{
 "cells": [
  {
   "cell_type": "markdown",
   "metadata": {},
   "source": [
    "# VacationPy\n",
    "----"
   ]
  },
  {
   "cell_type": "markdown",
   "metadata": {},
   "source": [
    "#### Dependencies and Setup"
   ]
  },
  {
   "cell_type": "code",
   "execution_count": null,
   "metadata": {},
   "outputs": [],
   "source": [
    "# dependencies and api key\n",
    "import matplotlib.pyplot as plt\n",
    "import pandas as pd\n",
    "import numpy as np\n",
    "import requests\n",
    "import gmaps\n",
    "from api_keys import gkey\n",
    "\n",
    "# urls\n",
    "base_url = \"https://maps.googleapis.com/maps/api/place/nearbysearch/json\"\n",
    "\n",
    "# data paths\n",
    "city_data_path = \"../output_data/cities.csv\""
   ]
  },
  {
   "cell_type": "code",
   "execution_count": null,
   "metadata": {},
   "outputs": [],
   "source": [
    "# read in csv\n",
    "city_data = pd.read_csv(city_data_path)"
   ]
  },
  {
   "cell_type": "code",
   "execution_count": null,
   "metadata": {},
   "outputs": [],
   "source": [
    "# gmaps configuration\n",
    "gmaps.configure(api_key=gkey)"
   ]
  },
  {
   "cell_type": "markdown",
   "metadata": {},
   "source": [
    "### Humidity Heatmap"
   ]
  },
  {
   "cell_type": "code",
   "execution_count": null,
   "metadata": {},
   "outputs": [],
   "source": [
    "# create function for heatmap\n",
    "def heatmap(locations, weights):\n",
    "    fig = gmaps.figure(center=(20,0), zoom_level=1.7)\n",
    "    heat_layer = gmaps.heatmap_layer(locations, weights=weights)\n",
    "    fig.add_layer(heat_layer)\n",
    "    return fig"
   ]
  },
  {
   "cell_type": "code",
   "execution_count": null,
   "metadata": {},
   "outputs": [],
   "source": [
    "# define locations and weights\n",
    "locations = city_data[[\"Lat\", \"Lng\"]]\n",
    "weights = city_data[\"Humidity\"]\n",
    "\n",
    "# create and display the heatmap\n",
    "humidity_heatmap = heatmap(locations, weights)\n",
    "humidity_heatmap"
   ]
  },
  {
   "cell_type": "markdown",
   "metadata": {},
   "source": [
    "#### Weather Data"
   ]
  },
  {
   "cell_type": "code",
   "execution_count": null,
   "metadata": {},
   "outputs": [],
   "source": [
    "# create new data frame for weather specific cleanup\n",
    "vacation_cities = city_data.dropna()\n",
    "\n",
    "# find and drop all cities deemed not worthy\n",
    "cold = vacation_cities.loc[vacation_cities[\"Max Temp\"] < 65].index\n",
    "vacation_cities = vacation_cities.drop(cold)\n",
    "hot = vacation_cities.loc[vacation_cities[\"Max Temp\"] > 85].index\n",
    "vacation_cities = vacation_cities.drop(hot)\n",
    "windy = vacation_cities.loc[vacation_cities[\"Wind Speed\"] > 10].index\n",
    "vacation_cities = vacation_cities.drop(windy)\n",
    "cloudy = vacation_cities.loc[vacation_cities[\"Cloudiness\"] > 0].index\n",
    "vacation_cities = vacation_cities.drop(cloudy)\n",
    "humid = vacation_cities.loc[vacation_cities[\"Humidity\"] > 60].index\n",
    "vacation_cities = vacation_cities.drop(humid)\n",
    "\n",
    "# house this new data frame in yet another data frame\n",
    "hotel_df = vacation_cities"
   ]
  },
  {
   "cell_type": "code",
   "execution_count": null,
   "metadata": {},
   "outputs": [],
   "source": [
    "# list for all the responses\n",
    "responses = []\n",
    "\n",
    "# define default perameters\n",
    "target_type = \"lodging\"\n",
    "radius = 5000\n",
    "\n",
    "# api request for each city\n",
    "for index, row in hotel_df.iterrows():\n",
    "    lat = row[\"Lat\"]\n",
    "    lng = row[\"Lng\"]\n",
    "    coords = f\"{lat},{lng}\"\n",
    "    params = {\n",
    "        \"location\": coords,\n",
    "        \"types\": target_type,\n",
    "        \"radius\": radius,\n",
    "        \"key\": gkey\n",
    "    }\n",
    "    response = requests.get(base_url, params).json()\n",
    "    responses.append(response)"
   ]
  },
  {
   "cell_type": "code",
   "execution_count": null,
   "metadata": {},
   "outputs": [],
   "source": [
    "# create lists to house each response variable\n",
    "hotel_names = []\n",
    "hotel_addresses = []\n",
    "hotel_ratings = []\n",
    "hotel_lats = []\n",
    "hotel_lngs = []\n",
    "\n",
    "# loop through responses\n",
    "for response in responses:\n",
    "    hotel_names.append(response[\"results\"][0][\"name\"])\n",
    "    hotel_addresses.append(response[\"results\"][0][\"vicinity\"])\n",
    "    hotel_ratings.append(response[\"results\"][0][\"rating\"])\n",
    "    hotel_lats.append(response[\"results\"][0][\"geometry\"][\"location\"][\"lat\"])\n",
    "    hotel_lngs.append(response[\"results\"][0][\"geometry\"][\"location\"][\"lng\"]) \n",
    "\n",
    "# create columns with new data\n",
    "hotel_df[\"Hotel Name\"] = hotel_names\n",
    "hotel_df[\"Hotel Address\"] = hotel_addresses\n",
    "hotel_df[\"Hotel Rating\"] = hotel_ratings\n",
    "hotel_df[\"Hotel Lat\"] = hotel_lats\n",
    "hotel_df[\"Hotel Lng\"] = hotel_lngs"
   ]
  },
  {
   "cell_type": "markdown",
   "metadata": {},
   "source": [
    "### Hotel Map"
   ]
  },
  {
   "cell_type": "code",
   "execution_count": null,
   "metadata": {},
   "outputs": [],
   "source": [
    "# create function for the final map\n",
    "def hotel_map(fig, locations, info_box_content):\n",
    "    marker_layer = gmaps.marker_layer(locations, info_box_content=info_box_content)\n",
    "    fig.add_layer(marker_layer)\n",
    "    return fig"
   ]
  },
  {
   "cell_type": "code",
   "execution_count": null,
   "metadata": {},
   "outputs": [],
   "source": [
    "# NOTE: Do not change any of the code in this cell\n",
    "\n",
    "# Using the template add the hotel marks to the heatmap\n",
    "info_box_template = \"\"\"\n",
    "<dl>\n",
    "<dt>Rating</dt><dd>{Hotel Rating} Stars</dd>\n",
    "<dt>Name</dt><dd>{Hotel Name}</dd>\n",
    "<dt>Address</dt><dd>{Hotel Address}</dd>\n",
    "<dt>Country</dt><dd>{Country}</dd>\n",
    "</dl>\n",
    "\"\"\"\n",
    "# Store the DataFrame Row\n",
    "# NOTE: be sure to update with your DataFrame name\n",
    "hotel_info = [info_box_template.format(**row) for index, row in hotel_df.iterrows()]"
   ]
  },
  {
   "cell_type": "code",
   "execution_count": null,
   "metadata": {},
   "outputs": [],
   "source": [
    "# define variables for function call\n",
    "fig = humidity_heatmap\n",
    "hotel_locations = hotel_df[[\"Hotel Lat\", \"Hotel Lng\"]]\n",
    "\n",
    "# create the final map\n",
    "final_map = hotel_map(fig, hotel_locations, hotel_info)\n",
    "\n",
    "# display the final map\n",
    "final_map"
   ]
  },
  {
   "cell_type": "code",
   "execution_count": null,
   "metadata": {},
   "outputs": [],
   "source": []
  },
  {
   "cell_type": "code",
   "execution_count": null,
   "metadata": {},
   "outputs": [],
   "source": []
  }
 ],
 "metadata": {
  "kernelspec": {
   "display_name": "Python 3",
   "language": "python",
   "name": "python3"
  },
  "language_info": {
   "codemirror_mode": {
    "name": "ipython",
    "version": 3
   },
   "file_extension": ".py",
   "mimetype": "text/x-python",
   "name": "python",
   "nbconvert_exporter": "python",
   "pygments_lexer": "ipython3",
   "version": "3.6.9"
  }
 },
 "nbformat": 4,
 "nbformat_minor": 4
}
